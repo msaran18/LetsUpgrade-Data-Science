{
 "cells": [
  {
   "cell_type": "markdown",
   "metadata": {},
   "source": [
    "# Assignment 3"
   ]
  },
  {
   "cell_type": "markdown",
   "metadata": {},
   "source": [
    "Question 1\n",
    "\n",
    "Create a numpy array starting from 2 till 50 with a stepsize of 3.\n"
   ]
  },
  {
   "cell_type": "code",
   "execution_count": 1,
   "metadata": {},
   "outputs": [
    {
     "name": "stdout",
     "output_type": "stream",
     "text": [
      "[ 2  5  8 11 14 17 20 23 26 29 32 35 38 41 44 47 50]\n"
     ]
    }
   ],
   "source": [
    "import numpy as np\n",
    "ar = np.arange(2,51,3)\n",
    "print(ar)"
   ]
  },
  {
   "cell_type": "markdown",
   "metadata": {},
   "source": [
    "Question 2\n",
    "\n",
    "Accept two lists of 5 elements each from the user. Convert them to numpy arrays. Concatenate these arrays and print it. Also sort these arrays and print it.\n"
   ]
  },
  {
   "cell_type": "code",
   "execution_count": 3,
   "metadata": {},
   "outputs": [
    {
     "name": "stdout",
     "output_type": "stream",
     "text": [
      "3 6 9\n",
      "2 4 6\n",
      "[3 6 9 2 4 6]\n",
      "[2 3 4 6 6 9]\n"
     ]
    }
   ],
   "source": [
    "ar1,ar2 = (list(map(int,input().split())) for i in range(2))\n",
    "ar1 = np.array(ar1)\n",
    "ar2 = np.array(ar2)\n",
    "print(np.concatenate((ar1,ar2)))\n",
    "print(np.sort(np.concatenate((ar1,ar2))))"
   ]
  },
  {
   "cell_type": "markdown",
   "metadata": {},
   "source": [
    "Question 3\n",
    "\n",
    "Accept two lists of 5 elements each from the user. Convert them to numpy arrays. Concatenate these arrays and print it. Also sort these arrays and print it."
   ]
  },
  {
   "cell_type": "code",
   "execution_count": 2,
   "metadata": {},
   "outputs": [
    {
     "name": "stdout",
     "output_type": "stream",
     "text": [
      "(3, 3) 9\n"
     ]
    }
   ],
   "source": [
    "ar = np.array([ [1,2,3] , [4,5,6] , [7,8,9] ])\n",
    "print(ar.shape,ar.size)"
   ]
  },
  {
   "cell_type": "markdown",
   "metadata": {},
   "source": [
    "Question 4\n",
    "\n",
    "How to convert a 1D array into a 2D array? Demonstrate with the help of a code snippet Hint: np.newaxis, np.expand_dims\n"
   ]
  },
  {
   "cell_type": "code",
   "execution_count": 4,
   "metadata": {},
   "outputs": [
    {
     "name": "stdout",
     "output_type": "stream",
     "text": [
      "[[1 2 3 4 5 6 7 8 9]] (1, 9)\n",
      "\n",
      "[[1 2 3]\n",
      " [4 5 6]\n",
      " [7 8 9]] (3, 3)\n"
     ]
    }
   ],
   "source": [
    "\n",
    "   # To convert a 1D array into a 2D array, we can use reshape(a, newshape, order='C').  \n",
    "\n",
    "ar = np.array([ [1,2,3,4,5,6,7,8,9] ])\n",
    "\n",
    "print(ar,ar.shape) \n",
    "\n",
    "print()\n",
    "\n",
    "ar = ar.reshape(3,3) \n",
    "\n",
    "print(ar,ar.shape)"
   ]
  },
  {
   "cell_type": "markdown",
   "metadata": {},
   "source": [
    "Question 5\n",
    "\n",
    "Consider two square numpy arrays. Stack them vertically and horizontally. Hint: Use vstack(), hstack()\n"
   ]
  },
  {
   "cell_type": "code",
   "execution_count": 5,
   "metadata": {},
   "outputs": [
    {
     "name": "stdout",
     "output_type": "stream",
     "text": [
      "Vertical Stacking:\n",
      " [[ 1  5  3]\n",
      " [ 4  2  6]\n",
      " [ 7  8  9]\n",
      " [10 11 12]\n",
      " [13 14 15]\n",
      " [16 17 18]]\n",
      "Horizontal Stacking:\n",
      " [[ 1  5  3 10 11 12]\n",
      " [ 4  2  6 13 14 15]\n",
      " [ 7  8  9 16 17 18]]\n"
     ]
    }
   ],
   "source": [
    "import numpy as np\n",
    "ar1 = np.array([ [1,5,3], [4,2,6], [7,8,9] ])\n",
    "ar2 = np.array([ [10,11,12], [13,14,15], [16,17,18,] ])\n",
    "#vertically stacking \n",
    "Vstack = np.vstack([ar1, ar2])\n",
    "#horizonatally stacking \n",
    "Hstack = np.hstack([ar1, ar2])\n",
    "print('Vertical Stacking:\\n',Vstack)\n",
    "print('Horizontal Stacking:\\n',Hstack)\n",
    "\n"
   ]
  },
  {
   "cell_type": "markdown",
   "metadata": {},
   "source": [
    "Question 6\n",
    "\n",
    "How to get unique items and counts of unique items?\n"
   ]
  },
  {
   "cell_type": "code",
   "execution_count": 9,
   "metadata": {},
   "outputs": [
    {
     "name": "stdout",
     "output_type": "stream",
     "text": [
      "[1, 3, 4, 6, 7, 9]\n",
      "\n",
      "6\n"
     ]
    }
   ],
   "source": [
    "list1 = [1,3,1,9,4,6,6,9,7]\n",
    "list1 = list(set(list1))\n",
    "print(list1)\n",
    "print()\n",
    "print(len(list1))\n",
    "\n"
   ]
  },
  {
   "cell_type": "code",
   "execution_count": null,
   "metadata": {},
   "outputs": [],
   "source": []
  }
 ],
 "metadata": {
  "kernelspec": {
   "display_name": "Python 3",
   "language": "python",
   "name": "python3"
  },
  "language_info": {
   "codemirror_mode": {
    "name": "ipython",
    "version": 3
   },
   "file_extension": ".py",
   "mimetype": "text/x-python",
   "name": "python",
   "nbconvert_exporter": "python",
   "pygments_lexer": "ipython3",
   "version": "3.8.3"
  }
 },
 "nbformat": 4,
 "nbformat_minor": 4
}
